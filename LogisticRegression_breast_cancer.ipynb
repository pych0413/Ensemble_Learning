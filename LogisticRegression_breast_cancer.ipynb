{
 "cells": [
  {
   "cell_type": "code",
   "execution_count": 1,
   "id": "a34b5761",
   "metadata": {},
   "outputs": [],
   "source": [
    "from sklearn.datasets import load_breast_cancer\n",
    "from sklearn.preprocessing import StandardScaler\n",
    "from sklearn.model_selection import train_test_split, cross_val_score, GridSearchCV\n",
    "from sklearn.linear_model import LogisticRegression\n",
    "import numpy as np\n",
    "import matplotlib.pyplot as plt"
   ]
  },
  {
   "cell_type": "code",
   "execution_count": 2,
   "id": "091641b6",
   "metadata": {},
   "outputs": [
    {
     "name": "stdout",
     "output_type": "stream",
     "text": [
      "[[array([-0.30596615,  0.00473593, -0.38550046, -0.36316091, -1.12158738,\n",
      "       -1.25934446, -1.1061848 , -1.15433606,  0.02694897, -1.10397473,\n",
      "       -0.0042302 , -0.0051771 , -0.13418261, -0.16230835,  0.15001311,\n",
      "       -0.94370263, -1.03455602, -1.23751977,  0.16438843, -0.30445597,\n",
      "       -0.42228058, -0.55810202, -0.50699109, -0.45087495, -1.3268508 ,\n",
      "       -1.22364683, -1.29697922, -1.57589532, -0.74701944, -1.16682532]), 1], [array([-0.35424856,  2.24104744, -0.39003138, -0.39984984, -1.07675315,\n",
      "       -0.87368185, -0.33709238, -0.65746658, -0.89673971, -0.81053069,\n",
      "       -0.6986422 ,  0.25971711, -0.67525107, -0.51719593,  0.45702556,\n",
      "       -0.22065966,  0.23496007, -0.6774098 , -0.43495016, -0.37594547,\n",
      "       -0.49268864,  1.63866073, -0.54869126, -0.50079967, -0.42383144,\n",
      "       -0.58693459, -0.13571466, -0.75639985, -0.85541074, -0.63871258]), 1], [array([ 0.46087218, -0.01620767,  0.62324754,  0.29496443,  1.98834244,\n",
      "        2.50271372,  2.54364574,  1.94179302,  2.0568735 ,  1.875829  ,\n",
      "        0.41588185,  0.19440073,  0.30243438,  0.23944287,  0.76270462,\n",
      "        2.24183345,  2.24261781,  1.78979921,  4.22415066,  1.33715486,\n",
      "        0.22588773, -0.24544194,  0.36156396,  0.06102923,  0.99206785,\n",
      "        1.59248008,  1.99102752,  1.50581572,  2.17469235,  1.16673475]), 0], [array([-0.68654517, -0.60960979, -0.71049114, -0.65780994,  0.62196595,\n",
      "       -0.82232334, -0.66389828, -0.59117604, -1.72550386, -0.47455853,\n",
      "        0.15782333,  2.34258391,  0.19402268, -0.13128594, -0.15433256,\n",
      "       -0.6526858 , -0.17486073,  0.20663288, -0.84177393, -0.03324976,\n",
      "       -0.60865486, -0.03211657, -0.62851731, -0.5869374 , -0.23095352,\n",
      "       -0.9635293 , -0.80400969, -0.68407351, -1.92314594, -0.58274261]), 1], [array([-0.47069438, -0.4606775 , -0.47447129, -0.49711815, -0.50387134,\n",
      "       -0.53141813, -0.66176394, -0.65076014, -1.04277745, -0.33138052,\n",
      "       -0.90942007, -0.79078801, -0.79851369, -0.62544434, -1.08170349,\n",
      "       -0.65771586, -0.61120716, -0.76240766, -0.62746498, -0.85254216,\n",
      "       -0.45748461, -0.2177585 , -0.43014363, -0.48040788, -0.20903557,\n",
      "       -0.0233148 , -0.33289288, -0.14170211,  0.21717781, -0.40652031]), 1]]\n"
     ]
    }
   ],
   "source": [
    "#import and split data\n",
    "dx, dy = load_breast_cancer(return_X_y=True)\n",
    "dx_std = StandardScaler().fit_transform(dx)\n",
    "dx_train, dx_test, dy_train, dy_test = train_test_split(dx_std, dy, test_size=0.2, random_state=100)\n",
    "\n",
    "#Check the data\n",
    "print([[x,y] for x, y in zip(dx_train[0:5], dy_train[0:5])])"
   ]
  },
  {
   "cell_type": "code",
   "execution_count": 3,
   "id": "59650107",
   "metadata": {},
   "outputs": [
    {
     "name": "stdout",
     "output_type": "stream",
     "text": [
      "Best params: {'C': 0.1}\n",
      "CV score: 0.978\n",
      "Test score: 0.965\n"
     ]
    }
   ],
   "source": [
    "#Logistic Regression Modeling\n",
    "log_param_grid = {'C': [10**n for n in range(-4, 5)]}\n",
    "log_model = GridSearchCV(LogisticRegression(max_iter=1000), log_param_grid)\n",
    "log_model.fit(dx_train, dy_train)\n",
    "\n",
    "print('Best params:', log_model.best_params_)\n",
    "print('CV score:  ', log_model.best_score_.round(3))\n",
    "print('Test score:', log_model.score(dx_test, dy_test).round(3))"
   ]
  },
  {
   "cell_type": "code",
   "execution_count": 4,
   "id": "30aecb42",
   "metadata": {},
   "outputs": [
    {
     "data": {
      "image/png": "[encoded data removed]",
      "text/plain": [
       "<Figure size 432x288 with 1 Axes>"
      ]
     },
     "metadata": {
      "needs_background": "light"
     },
     "output_type": "display_data"
    }
   ],
   "source": [
    "#Logistic Regression modeling(test C from 10^(-4) to 10^(4))\n",
    "log_cv_scores = []\n",
    "log_test_scores =[]\n",
    "C_val = [10**n for n in range(-4, 5)]\n",
    "C_str = [str(n) for n in C_val]\n",
    "\n",
    "for c in C_val:\n",
    "    log_reg = LogisticRegression(C=c, max_iter=1000).fit(dx_train, dy_train)\n",
    "    log_cv_scores.append(cross_val_score(log_reg, dx_train, dy_train, cv=5).mean())\n",
    "    log_test_scores.append(log_reg.score(dx_test, dy_test))\n",
    "    \n",
    "plt.title('Logistic Regression hyperparameter')\n",
    "plt.plot(C_str, log_cv_scores, label='CV score')\n",
    "plt.plot(C_str, log_test_scores, label='Test score')\n",
    "plt.xlabel('C')\n",
    "plt.ylabel('accuracy (%)')\n",
    "plt.legend()\n",
    "plt.grid(True)\n",
    "plt.show()"
   ]
  },
  {
   "cell_type": "code",
   "execution_count": 5,
   "id": "2ad6adb1",
   "metadata": {},
   "outputs": [
    {
     "name": "stdout",
     "output_type": "stream",
     "text": [
      "Dataset:     [0 1 0 1 1 1 0 0 0 1]\n",
      "Predictions: [0 1 0 1 1 1 0 0 1 1]\n"
     ]
    }
   ],
   "source": [
    "#Testing of Logistic Regression model\n",
    "log_predictions = log_model.predict(dx_test[:10])\n",
    "print('Dataset:    ', dy_test[:10])\n",
    "print('Predictions:', log_predictions)"
   ]
  },
  {
   "cell_type": "code",
   "execution_count": null,
   "id": "636325a2",
   "metadata": {},
   "outputs": [],
   "source": []
  }
 ],
 "metadata": {
  "kernelspec": {
   "display_name": "Python 3 (ipykernel)",
   "language": "python",
   "name": "python3"
  },
  "language_info": {
   "codemirror_mode": {
    "name": "ipython",
    "version": 3
   },
   "file_extension": ".py",
   "mimetype": "text/x-python",
   "name": "python",
   "nbconvert_exporter": "python",
   "pygments_lexer": "ipython3",
   "version": "3.9.12"
  }
 },
 "nbformat": 4,
 "nbformat_minor": 5
}
