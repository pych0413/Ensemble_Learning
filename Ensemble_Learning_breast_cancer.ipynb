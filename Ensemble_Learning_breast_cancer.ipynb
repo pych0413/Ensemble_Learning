{
 "cells": [
  {
   "cell_type": "code",
   "execution_count": 25,
   "id": "c27105e8",
   "metadata": {},
   "outputs": [],
   "source": [
    "import numpy as np\n",
    "import pandas as pd\n",
    "import matplotlib.pyplot as plt\n",
    "\n",
    "from sklearn.datasets import load_breast_cancer\n",
    "from sklearn.preprocessing import StandardScaler\n",
    "from sklearn.model_selection import train_test_split, cross_val_score, GridSearchCV\n",
    "\n",
    "from sklearn.tree import DecisionTreeClassifier, export_text\n",
    "from sklearn.linear_model import LogisticRegression\n",
    "from sklearn.ensemble import RandomForestClassifier, VotingClassifier, BaggingClassifier\n",
    "from sklearn.svm import SVC\n",
    "from sklearn.neighbors import KNeighborsClassifier\n",
    "\n",
    "from sklearn import metrics\n",
    "\n",
    "np.random.seed(123)"
   ]
  },
  {
   "cell_type": "code",
   "execution_count": 17,
   "id": "96dda127",
   "metadata": {},
   "outputs": [
    {
     "name": "stdout",
     "output_type": "stream",
     "text": [
      "[[array([-0.30596615,  0.00473593, -0.38550046, -0.36316091, -1.12158738,\n",
      "       -1.25934446, -1.1061848 , -1.15433606,  0.02694897, -1.10397473,\n",
      "       -0.0042302 , -0.0051771 , -0.13418261, -0.16230835,  0.15001311,\n",
      "       -0.94370263, -1.03455602, -1.23751977,  0.16438843, -0.30445597,\n",
      "       -0.42228058, -0.55810202, -0.50699109, -0.45087495, -1.3268508 ,\n",
      "       -1.22364683, -1.29697922, -1.57589532, -0.74701944, -1.16682532]), 1], [array([-0.35424856,  2.24104744, -0.39003138, -0.39984984, -1.07675315,\n",
      "       -0.87368185, -0.33709238, -0.65746658, -0.89673971, -0.81053069,\n",
      "       -0.6986422 ,  0.25971711, -0.67525107, -0.51719593,  0.45702556,\n",
      "       -0.22065966,  0.23496007, -0.6774098 , -0.43495016, -0.37594547,\n",
      "       -0.49268864,  1.63866073, -0.54869126, -0.50079967, -0.42383144,\n",
      "       -0.58693459, -0.13571466, -0.75639985, -0.85541074, -0.63871258]), 1], [array([ 0.46087218, -0.01620767,  0.62324754,  0.29496443,  1.98834244,\n",
      "        2.50271372,  2.54364574,  1.94179302,  2.0568735 ,  1.875829  ,\n",
      "        0.41588185,  0.19440073,  0.30243438,  0.23944287,  0.76270462,\n",
      "        2.24183345,  2.24261781,  1.78979921,  4.22415066,  1.33715486,\n",
      "        0.22588773, -0.24544194,  0.36156396,  0.06102923,  0.99206785,\n",
      "        1.59248008,  1.99102752,  1.50581572,  2.17469235,  1.16673475]), 0], [array([-0.68654517, -0.60960979, -0.71049114, -0.65780994,  0.62196595,\n",
      "       -0.82232334, -0.66389828, -0.59117604, -1.72550386, -0.47455853,\n",
      "        0.15782333,  2.34258391,  0.19402268, -0.13128594, -0.15433256,\n",
      "       -0.6526858 , -0.17486073,  0.20663288, -0.84177393, -0.03324976,\n",
      "       -0.60865486, -0.03211657, -0.62851731, -0.5869374 , -0.23095352,\n",
      "       -0.9635293 , -0.80400969, -0.68407351, -1.92314594, -0.58274261]), 1], [array([-0.47069438, -0.4606775 , -0.47447129, -0.49711815, -0.50387134,\n",
      "       -0.53141813, -0.66176394, -0.65076014, -1.04277745, -0.33138052,\n",
      "       -0.90942007, -0.79078801, -0.79851369, -0.62544434, -1.08170349,\n",
      "       -0.65771586, -0.61120716, -0.76240766, -0.62746498, -0.85254216,\n",
      "       -0.45748461, -0.2177585 , -0.43014363, -0.48040788, -0.20903557,\n",
      "       -0.0233148 , -0.33289288, -0.14170211,  0.21717781, -0.40652031]), 1]]\n"
     ]
    }
   ],
   "source": [
    "#import and split data\n",
    "dx, dy = load_breast_cancer(return_X_y=True)\n",
    "dx_std = StandardScaler().fit_transform(dx)\n",
    "dx_train, dx_test, dy_train, dy_test = train_test_split(dx_std, dy, test_size=0.2, random_state=100)\n",
    "\n",
    "#Check the data\n",
    "print([[x,y] for x, y in zip(dx_train[0:5], dy_train[0:5])])"
   ]
  },
  {
   "cell_type": "code",
   "execution_count": 18,
   "id": "8ea360fd",
   "metadata": {},
   "outputs": [],
   "source": [
    "base_classifiers = [('DT', DecisionTreeClassifier(max_depth=4)),\n",
    "                    ('LR', LogisticRegression(C=0.1, max_iter=1000)),\n",
    "                    ('RF', RandomForestClassifier(n_estimators=150, max_depth=3)),\n",
    "                    ('SVM', SVC(C=0.1, gamma=0.01, kernel='linear')),\n",
    "                    ('KNN', KNeighborsClassifier(n_neighbors=10))\n",
    "                   ]"
   ]
  },
  {
   "cell_type": "code",
   "execution_count": 27,
   "id": "9d022b35",
   "metadata": {},
   "outputs": [
    {
     "name": "stdout",
     "output_type": "stream",
     "text": [
      "DT cross validation accuracy: 0.9296703296703297\n",
      "DT testing accuracy: 0.956140350877193\n",
      "LR cross validation accuracy: 0.9780219780219781\n",
      "LR testing accuracy: 0.9649122807017544\n",
      "RF cross validation accuracy: 0.9494505494505494\n",
      "RF testing accuracy: 0.956140350877193\n",
      "SVM cross validation accuracy: 0.9802197802197803\n",
      "SVM testing accuracy: 0.9649122807017544\n",
      "KNN cross validation accuracy: 0.9670329670329669\n",
      "KNN testing accuracy: 0.9649122807017544\n"
     ]
    }
   ],
   "source": [
    "for bc in base_classifiers:\n",
    "    lr = bc[1]\n",
    "    lr.fit(dx_train, dy_train)\n",
    "    \n",
    "    predictions = lr.predict(dx_test)\n",
    "    print(bc[0]+' cross validation accuracy:', cross_val_score(lr, dx_train, dy_train, cv=5).mean())\n",
    "    print(bc[0]+' testing accuracy:',metrics.accuracy_score(dy_test, predictions))"
   ]
  },
  {
   "cell_type": "code",
   "execution_count": 29,
   "id": "b5fed2fd",
   "metadata": {},
   "outputs": [
    {
     "name": "stdout",
     "output_type": "stream",
     "text": [
      "Ensemble cross validation accuracy: 0.9758241758241757\n",
      "Ensemble testing accuracy: 0.9649122807017544\n"
     ]
    }
   ],
   "source": [
    "# ensemble learning of Voting\n",
    "ensemble = VotingClassifier(base_classifiers)\n",
    "ensemble.fit(dx_train, dy_train)\n",
    "\n",
    "predictions = ensemble.predict(dx_test)\n",
    "\n",
    "print('Ensemble cross validation accuracy:', cross_val_score(ensemble, dx_train, dy_train, cv=5).mean())\n",
    "print('Ensemble testing accuracy:', metrics.accuracy_score(dy_test, predictions))"
   ]
  },
  {
   "cell_type": "code",
   "execution_count": 31,
   "id": "bc1f9010",
   "metadata": {},
   "outputs": [],
   "source": [
    "# ensemble learning of Bootstrap Aggregation\n",
    "each_learner_ensemble_size = 3\n",
    "base_learners = []\n",
    "base_predictions = []\n",
    "base_accuracy = []\n",
    "\n",
    "# train each learner\n",
    "for bc in base_classifiers:\n",
    "    for _ in range(each_learner_ensemble_size):\n",
    "        lr = bc[1]\n",
    "        \n",
    "        # resample\n",
    "        bootstrap_sample_indices = np.random.randint(0,len(dx_train), size = len(dx_train))\n",
    "        bootstrap_x = dx_train[bootstrap_sample_indices]\n",
    "        bootstrap_y = dy_train[bootstrap_sample_indices]\n",
    "    \n",
    "        lr.fit(bootstrap_x, bootstrap_y)\n",
    "        base_learners.append(lr)\n",
    "    \n",
    "        predictions = lr.predict(dx_test)\n",
    "        base_predictions.append(predictions)\n",
    "    \n",
    "        accuracy = metrics.accuracy_score(dy_test, predictions)\n",
    "        base_accuracy.append(accuracy)"
   ]
  },
  {
   "cell_type": "code",
   "execution_count": 34,
   "id": "ec8139b8",
   "metadata": {},
   "outputs": [],
   "source": [
    "# ensemble all of the learning by voting\n",
    "ensemble_predictions = []\n",
    "for i in range(len(dy_test)):\n",
    "    \n",
    "    # count each number of different class\n",
    "    counts = [0 for _ in range(len(base_learners))]\n",
    "    for learner_p in base_predictions:\n",
    "        counts[learner_p[i]] = counts[learner_p[i]] + 1\n",
    "    final = np.argmax(counts)\n",
    "    \n",
    "    ensemble_predictions.append(final)\n",
    "\n",
    "ensemble_acc = metrics.accuracy_score(dy_test, ensemble_predictions)"
   ]
  },
  {
   "cell_type": "code",
   "execution_count": 37,
   "id": "07478c70",
   "metadata": {},
   "outputs": [
    {
     "name": "stdout",
     "output_type": "stream",
     "text": [
      "Base Learner:\n",
      "--------------------------------------------------\n",
      "Learner 1: 0.9123\n",
      "Learner 2: 0.9123\n",
      "Learner 3: 0.9474\n",
      "Learner 4: 0.9474\n",
      "Learner 5: 0.9474\n",
      "Learner 6: 0.9474\n",
      "Learner 7: 0.9561\n",
      "Learner 8: 0.9561\n",
      "Learner 9: 0.9561\n",
      "Learner 10: 0.9649\n",
      "Learner 11: 0.9649\n",
      "Learner 12: 0.9649\n",
      "Learner 13: 0.9737\n",
      "Learner 14: 0.9825\n",
      "Learner 15: 0.9825\n",
      "--------------------------------------------------\n",
      "Ensemble model: 0.9649\n"
     ]
    }
   ],
   "source": [
    "print('Base Learner:')\n",
    "print('-'*50)\n",
    "for index, acc in enumerate(sorted(base_accuracy)):\n",
    "    print(f'Learner {index+1}: %.4f' % acc)\n",
    "print('-'*50)\n",
    "print(f'Ensemble model: %.4f' % ensemble_acc)"
   ]
  },
  {
   "cell_type": "code",
   "execution_count": null,
   "id": "77e2c521",
   "metadata": {},
   "outputs": [],
   "source": []
  }
 ],
 "metadata": {
  "kernelspec": {
   "display_name": "Python 3 (ipykernel)",
   "language": "python",
   "name": "python3"
  },
  "language_info": {
   "codemirror_mode": {
    "name": "ipython",
    "version": 3
   },
   "file_extension": ".py",
   "mimetype": "text/x-python",
   "name": "python",
   "nbconvert_exporter": "python",
   "pygments_lexer": "ipython3",
   "version": "3.9.12"
  }
 },
 "nbformat": 4,
 "nbformat_minor": 5
}
